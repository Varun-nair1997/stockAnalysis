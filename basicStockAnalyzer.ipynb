{
 "cells": [
  {
   "cell_type": "code",
   "execution_count": 9,
   "metadata": {},
   "outputs": [
    {
     "data": {
      "text/plain": [
       "'\\nRead the data.\\nMaybe plot some graphs\\n'"
      ]
     },
     "execution_count": 9,
     "metadata": {},
     "output_type": "execute_result"
    }
   ],
   "source": [
    "'''\n",
    "Read the data.\n",
    "Maybe plot some graphs\n",
    "'''"
   ]
  },
  {
   "cell_type": "code",
   "execution_count": 23,
   "metadata": {},
   "outputs": [],
   "source": [
    "import pandas as pd\n"
   ]
  },
  {
   "cell_type": "code",
   "execution_count": 86,
   "metadata": {},
   "outputs": [],
   "source": [
    "dataset = pd.read_csv('SourceData/Stocks/ge.us.txt', index_col=\"Date\", parse_dates=True)"
   ]
  },
  {
   "cell_type": "code",
   "execution_count": 25,
   "metadata": {},
   "outputs": [
    {
     "data": {
      "text/html": [
       "<div>\n",
       "<style scoped>\n",
       "    .dataframe tbody tr th:only-of-type {\n",
       "        vertical-align: middle;\n",
       "    }\n",
       "\n",
       "    .dataframe tbody tr th {\n",
       "        vertical-align: top;\n",
       "    }\n",
       "\n",
       "    .dataframe thead th {\n",
       "        text-align: right;\n",
       "    }\n",
       "</style>\n",
       "<table border=\"1\" class=\"dataframe\">\n",
       "  <thead>\n",
       "    <tr style=\"text-align: right;\">\n",
       "      <th></th>\n",
       "      <th>Open</th>\n",
       "      <th>High</th>\n",
       "      <th>Low</th>\n",
       "      <th>Close</th>\n",
       "      <th>Volume</th>\n",
       "      <th>OpenInt</th>\n",
       "    </tr>\n",
       "  </thead>\n",
       "  <tbody>\n",
       "    <tr>\n",
       "      <th>count</th>\n",
       "      <td>14058.000000</td>\n",
       "      <td>14058.000000</td>\n",
       "      <td>14058.000000</td>\n",
       "      <td>14058.000000</td>\n",
       "      <td>1.405800e+04</td>\n",
       "      <td>14058.0</td>\n",
       "    </tr>\n",
       "    <tr>\n",
       "      <th>mean</th>\n",
       "      <td>10.534737</td>\n",
       "      <td>10.642538</td>\n",
       "      <td>10.421090</td>\n",
       "      <td>10.534161</td>\n",
       "      <td>2.423066e+07</td>\n",
       "      <td>0.0</td>\n",
       "    </tr>\n",
       "    <tr>\n",
       "      <th>std</th>\n",
       "      <td>11.742897</td>\n",
       "      <td>11.868891</td>\n",
       "      <td>11.612159</td>\n",
       "      <td>11.743726</td>\n",
       "      <td>3.369859e+07</td>\n",
       "      <td>0.0</td>\n",
       "    </tr>\n",
       "    <tr>\n",
       "      <th>min</th>\n",
       "      <td>0.459020</td>\n",
       "      <td>0.466900</td>\n",
       "      <td>0.451140</td>\n",
       "      <td>0.459020</td>\n",
       "      <td>0.000000e+00</td>\n",
       "      <td>0.0</td>\n",
       "    </tr>\n",
       "    <tr>\n",
       "      <th>25%</th>\n",
       "      <td>0.901500</td>\n",
       "      <td>0.909600</td>\n",
       "      <td>0.893800</td>\n",
       "      <td>0.901500</td>\n",
       "      <td>5.496950e+06</td>\n",
       "      <td>0.0</td>\n",
       "    </tr>\n",
       "    <tr>\n",
       "      <th>50%</th>\n",
       "      <td>3.880900</td>\n",
       "      <td>3.912700</td>\n",
       "      <td>3.824300</td>\n",
       "      <td>3.884800</td>\n",
       "      <td>1.597520e+07</td>\n",
       "      <td>0.0</td>\n",
       "    </tr>\n",
       "    <tr>\n",
       "      <th>75%</th>\n",
       "      <td>21.416000</td>\n",
       "      <td>21.658000</td>\n",
       "      <td>21.149250</td>\n",
       "      <td>21.370000</td>\n",
       "      <td>2.853667e+07</td>\n",
       "      <td>0.0</td>\n",
       "    </tr>\n",
       "    <tr>\n",
       "      <th>max</th>\n",
       "      <td>47.751000</td>\n",
       "      <td>48.459000</td>\n",
       "      <td>47.596000</td>\n",
       "      <td>48.056000</td>\n",
       "      <td>9.345354e+08</td>\n",
       "      <td>0.0</td>\n",
       "    </tr>\n",
       "  </tbody>\n",
       "</table>\n",
       "</div>"
      ],
      "text/plain": [
       "               Open          High           Low         Close        Volume  \\\n",
       "count  14058.000000  14058.000000  14058.000000  14058.000000  1.405800e+04   \n",
       "mean      10.534737     10.642538     10.421090     10.534161  2.423066e+07   \n",
       "std       11.742897     11.868891     11.612159     11.743726  3.369859e+07   \n",
       "min        0.459020      0.466900      0.451140      0.459020  0.000000e+00   \n",
       "25%        0.901500      0.909600      0.893800      0.901500  5.496950e+06   \n",
       "50%        3.880900      3.912700      3.824300      3.884800  1.597520e+07   \n",
       "75%       21.416000     21.658000     21.149250     21.370000  2.853667e+07   \n",
       "max       47.751000     48.459000     47.596000     48.056000  9.345354e+08   \n",
       "\n",
       "       OpenInt  \n",
       "count  14058.0  \n",
       "mean       0.0  \n",
       "std        0.0  \n",
       "min        0.0  \n",
       "25%        0.0  \n",
       "50%        0.0  \n",
       "75%        0.0  \n",
       "max        0.0  "
      ]
     },
     "execution_count": 25,
     "metadata": {},
     "output_type": "execute_result"
    }
   ],
   "source": [
    "dataset.describe()"
   ]
  },
  {
   "cell_type": "code",
   "execution_count": 37,
   "metadata": {},
   "outputs": [
    {
     "data": {
      "text/html": [
       "<div>\n",
       "<style scoped>\n",
       "    .dataframe tbody tr th:only-of-type {\n",
       "        vertical-align: middle;\n",
       "    }\n",
       "\n",
       "    .dataframe tbody tr th {\n",
       "        vertical-align: top;\n",
       "    }\n",
       "\n",
       "    .dataframe thead th {\n",
       "        text-align: right;\n",
       "    }\n",
       "</style>\n",
       "<table border=\"1\" class=\"dataframe\">\n",
       "  <thead>\n",
       "    <tr style=\"text-align: right;\">\n",
       "      <th></th>\n",
       "      <th>Open</th>\n",
       "      <th>High</th>\n",
       "      <th>Low</th>\n",
       "      <th>Close</th>\n",
       "      <th>Volume</th>\n",
       "      <th>OpenInt</th>\n",
       "    </tr>\n",
       "    <tr>\n",
       "      <th>Date</th>\n",
       "      <th></th>\n",
       "      <th></th>\n",
       "      <th></th>\n",
       "      <th></th>\n",
       "      <th></th>\n",
       "      <th></th>\n",
       "    </tr>\n",
       "  </thead>\n",
       "  <tbody>\n",
       "    <tr>\n",
       "      <th>1962-01-02</th>\n",
       "      <td>0.6277</td>\n",
       "      <td>0.6362</td>\n",
       "      <td>0.6201</td>\n",
       "      <td>0.6201</td>\n",
       "      <td>2575579.0</td>\n",
       "      <td>0</td>\n",
       "    </tr>\n",
       "    <tr>\n",
       "      <th>1962-01-03</th>\n",
       "      <td>0.6201</td>\n",
       "      <td>0.6201</td>\n",
       "      <td>0.6122</td>\n",
       "      <td>0.6201</td>\n",
       "      <td>1764749.0</td>\n",
       "      <td>0</td>\n",
       "    </tr>\n",
       "    <tr>\n",
       "      <th>1962-01-04</th>\n",
       "      <td>0.6201</td>\n",
       "      <td>0.6201</td>\n",
       "      <td>0.6037</td>\n",
       "      <td>0.6122</td>\n",
       "      <td>2194010.0</td>\n",
       "      <td>0</td>\n",
       "    </tr>\n",
       "    <tr>\n",
       "      <th>1962-01-05</th>\n",
       "      <td>0.6122</td>\n",
       "      <td>0.6122</td>\n",
       "      <td>0.5798</td>\n",
       "      <td>0.5957</td>\n",
       "      <td>3255244.0</td>\n",
       "      <td>0</td>\n",
       "    </tr>\n",
       "    <tr>\n",
       "      <th>1962-01-08</th>\n",
       "      <td>0.5957</td>\n",
       "      <td>0.5957</td>\n",
       "      <td>0.5716</td>\n",
       "      <td>0.5957</td>\n",
       "      <td>3696430.0</td>\n",
       "      <td>0</td>\n",
       "    </tr>\n",
       "    <tr>\n",
       "      <th>1962-01-09</th>\n",
       "      <td>0.5957</td>\n",
       "      <td>0.6037</td>\n",
       "      <td>0.5878</td>\n",
       "      <td>0.5957</td>\n",
       "      <td>2778285.0</td>\n",
       "      <td>0</td>\n",
       "    </tr>\n",
       "    <tr>\n",
       "      <th>1962-01-10</th>\n",
       "      <td>0.5957</td>\n",
       "      <td>0.6037</td>\n",
       "      <td>0.5957</td>\n",
       "      <td>0.5957</td>\n",
       "      <td>2337096.0</td>\n",
       "      <td>0</td>\n",
       "    </tr>\n",
       "    <tr>\n",
       "      <th>1962-01-11</th>\n",
       "      <td>0.5957</td>\n",
       "      <td>0.5957</td>\n",
       "      <td>0.5878</td>\n",
       "      <td>0.5957</td>\n",
       "      <td>1943605.0</td>\n",
       "      <td>0</td>\n",
       "    </tr>\n",
       "    <tr>\n",
       "      <th>1962-01-12</th>\n",
       "      <td>0.5957</td>\n",
       "      <td>0.6037</td>\n",
       "      <td>0.5878</td>\n",
       "      <td>0.5878</td>\n",
       "      <td>2015151.0</td>\n",
       "      <td>0</td>\n",
       "    </tr>\n",
       "    <tr>\n",
       "      <th>1962-01-15</th>\n",
       "      <td>0.5957</td>\n",
       "      <td>0.5957</td>\n",
       "      <td>0.5957</td>\n",
       "      <td>0.5957</td>\n",
       "      <td>2527879.0</td>\n",
       "      <td>0</td>\n",
       "    </tr>\n",
       "  </tbody>\n",
       "</table>\n",
       "</div>"
      ],
      "text/plain": [
       "              Open    High     Low   Close     Volume  OpenInt\n",
       "Date                                                          \n",
       "1962-01-02  0.6277  0.6362  0.6201  0.6201  2575579.0        0\n",
       "1962-01-03  0.6201  0.6201  0.6122  0.6201  1764749.0        0\n",
       "1962-01-04  0.6201  0.6201  0.6037  0.6122  2194010.0        0\n",
       "1962-01-05  0.6122  0.6122  0.5798  0.5957  3255244.0        0\n",
       "1962-01-08  0.5957  0.5957  0.5716  0.5957  3696430.0        0\n",
       "1962-01-09  0.5957  0.6037  0.5878  0.5957  2778285.0        0\n",
       "1962-01-10  0.5957  0.6037  0.5957  0.5957  2337096.0        0\n",
       "1962-01-11  0.5957  0.5957  0.5878  0.5957  1943605.0        0\n",
       "1962-01-12  0.5957  0.6037  0.5878  0.5878  2015151.0        0\n",
       "1962-01-15  0.5957  0.5957  0.5957  0.5957  2527879.0        0"
      ]
     },
     "execution_count": 37,
     "metadata": {},
     "output_type": "execute_result"
    }
   ],
   "source": [
    "dataset.head(10)"
   ]
  },
  {
   "cell_type": "code",
   "execution_count": 26,
   "metadata": {},
   "outputs": [],
   "source": [
    "import matplotlib.pyplot as plt"
   ]
  },
  {
   "cell_type": "code",
   "execution_count": 81,
   "metadata": {},
   "outputs": [
    {
     "name": "stdout",
     "output_type": "stream",
     "text": [
      "<class 'pandas.core.frame.DataFrame'>\n",
      "DatetimeIndex: 14058 entries, 1962-01-02 to 2017-11-10\n",
      "Data columns (total 6 columns):\n",
      "Open       14058 non-null float64\n",
      "High       14058 non-null float64\n",
      "Low        14058 non-null float64\n",
      "Close      14058 non-null float64\n",
      "Volume     14058 non-null float64\n",
      "OpenInt    14058 non-null int64\n",
      "dtypes: float64(5), int64(1)\n",
      "memory usage: 768.8 KB\n"
     ]
    }
   ],
   "source": [
    "dataset.info()"
   ]
  },
  {
   "cell_type": "code",
   "execution_count": 87,
   "metadata": {},
   "outputs": [],
   "source": [
    "'''\n",
    "Volume and OpenInt need their types to be changed\n",
    "'''\n",
    "dataset[\"Volume\"] = dataset[\"Volume\"].astype(float)\n",
    "dataset = dataset.drop(columns=\"OpenInt\")\n",
    "dataset = dataset[7000:]"
   ]
  },
  {
   "cell_type": "code",
   "execution_count": 89,
   "metadata": {},
   "outputs": [],
   "source": [
    "training_set=dataset['Open']\n",
    "training_set=pd.DataFrame(training_set)\n",
    "\n",
    "# Feature Scaling\n",
    "from sklearn.preprocessing import MinMaxScaler\n",
    "sc = MinMaxScaler(feature_range = (0, 1))\n",
    "training_set_scaled = sc.fit_transform(training_set)"
   ]
  },
  {
   "cell_type": "code",
   "execution_count": 91,
   "metadata": {},
   "outputs": [],
   "source": [
    "# Creating a data structure with 60 timesteps and 1 output\n",
    "X_train = []\n",
    "y_train = []\n",
    "for i in range(60, training_set.shape[0]):\n",
    "    X_train.append(training_set_scaled[i-60:i, 0])\n",
    "    y_train.append(training_set_scaled[i, 0])\n"
   ]
  },
  {
   "cell_type": "code",
   "execution_count": 94,
   "metadata": {},
   "outputs": [],
   "source": [
    "import numpy as np"
   ]
  },
  {
   "cell_type": "code",
   "execution_count": 95,
   "metadata": {},
   "outputs": [],
   "source": [
    "X_train, y_train = np.array(X_train), np.array(y_train)"
   ]
  },
  {
   "cell_type": "code",
   "execution_count": 101,
   "metadata": {},
   "outputs": [
    {
     "data": {
      "text/plain": [
       "(6998, 60, 1)"
      ]
     },
     "execution_count": 101,
     "metadata": {},
     "output_type": "execute_result"
    }
   ],
   "source": [
    "# Reshaping\n",
    "X_train = np.reshape(X_train, (X_train.shape[0], X_train.shape[1], 1))"
   ]
  },
  {
   "cell_type": "code",
   "execution_count": 105,
   "metadata": {},
   "outputs": [],
   "source": [
    "# Part 2 - Building the RNN\n",
    "\n",
    "# Importing the Keras libraries and packages\n",
    "from keras.models import Sequential\n",
    "from keras.layers import Dense\n",
    "from keras.layers import LSTM\n",
    "from keras.layers import Dropout"
   ]
  },
  {
   "cell_type": "code",
   "execution_count": 106,
   "metadata": {},
   "outputs": [
    {
     "name": "stderr",
     "output_type": "stream",
     "text": [
      "WARNING: Logging before flag parsing goes to stderr.\n",
      "W0826 20:14:29.510572  7196 deprecation_wrapper.py:119] From C:\\Users\\admin\\Anaconda3\\lib\\site-packages\\keras\\backend\\tensorflow_backend.py:66: The name tf.get_default_graph is deprecated. Please use tf.compat.v1.get_default_graph instead.\n",
      "\n",
      "W0826 20:14:29.613512  7196 deprecation_wrapper.py:119] From C:\\Users\\admin\\Anaconda3\\lib\\site-packages\\keras\\backend\\tensorflow_backend.py:541: The name tf.placeholder is deprecated. Please use tf.compat.v1.placeholder instead.\n",
      "\n",
      "W0826 20:14:29.640499  7196 deprecation_wrapper.py:119] From C:\\Users\\admin\\Anaconda3\\lib\\site-packages\\keras\\backend\\tensorflow_backend.py:4432: The name tf.random_uniform is deprecated. Please use tf.random.uniform instead.\n",
      "\n",
      "W0826 20:14:30.945750  7196 deprecation_wrapper.py:119] From C:\\Users\\admin\\Anaconda3\\lib\\site-packages\\keras\\backend\\tensorflow_backend.py:148: The name tf.placeholder_with_default is deprecated. Please use tf.compat.v1.placeholder_with_default instead.\n",
      "\n",
      "W0826 20:14:30.988728  7196 deprecation.py:506] From C:\\Users\\admin\\Anaconda3\\lib\\site-packages\\keras\\backend\\tensorflow_backend.py:3733: calling dropout (from tensorflow.python.ops.nn_ops) with keep_prob is deprecated and will be removed in a future version.\n",
      "Instructions for updating:\n",
      "Please use `rate` instead of `keep_prob`. Rate should be set to `rate = 1 - keep_prob`.\n"
     ]
    }
   ],
   "source": [
    "# Initialising the RNN\n",
    "regressor = Sequential()\n",
    "\n",
    "# Adding the first LSTM layer and some Dropout regularisation\n",
    "regressor.add(LSTM(units = 50, return_sequences = True, input_shape = (X_train.shape[1], 1)))\n",
    "regressor.add(Dropout(0.2))\n",
    "\n",
    "# Adding a second LSTM layer and some Dropout regularisation\n",
    "regressor.add(LSTM(units = 50, return_sequences = True))\n",
    "regressor.add(Dropout(0.2))\n",
    "\n",
    "# Adding a third LSTM layer and some Dropout regularisation\n",
    "regressor.add(LSTM(units = 50, return_sequences = True))\n",
    "regressor.add(Dropout(0.2))\n",
    "\n",
    "# Adding a fourth LSTM layer and some Dropout regularisation\n",
    "regressor.add(LSTM(units = 50))\n",
    "regressor.add(Dropout(0.2))\n",
    "\n",
    "# Adding the output layer\n",
    "regressor.add(Dense(units = 1))"
   ]
  },
  {
   "cell_type": "code",
   "execution_count": 107,
   "metadata": {},
   "outputs": [
    {
     "name": "stderr",
     "output_type": "stream",
     "text": [
      "W0826 20:18:09.646323  7196 deprecation_wrapper.py:119] From C:\\Users\\admin\\Anaconda3\\lib\\site-packages\\keras\\optimizers.py:793: The name tf.train.Optimizer is deprecated. Please use tf.compat.v1.train.Optimizer instead.\n",
      "\n",
      "W0826 20:18:11.196444  7196 deprecation.py:323] From C:\\Users\\admin\\Anaconda3\\lib\\site-packages\\tensorflow\\python\\ops\\math_grad.py:1250: add_dispatch_support.<locals>.wrapper (from tensorflow.python.ops.array_ops) is deprecated and will be removed in a future version.\n",
      "Instructions for updating:\n",
      "Use tf.where in 2.0, which has the same broadcast rule as np.where\n",
      "W0826 20:18:23.682304  7196 deprecation_wrapper.py:119] From C:\\Users\\admin\\Anaconda3\\lib\\site-packages\\keras\\backend\\tensorflow_backend.py:1033: The name tf.assign_add is deprecated. Please use tf.compat.v1.assign_add instead.\n",
      "\n"
     ]
    },
    {
     "name": "stdout",
     "output_type": "stream",
     "text": [
      "Epoch 1/100\n",
      "6998/6998 [==============================] - 48s 7ms/step - loss: 0.0082\n",
      "Epoch 2/100\n",
      "6998/6998 [==============================] - 34s 5ms/step - loss: 0.0022\n",
      "Epoch 3/100\n",
      "6998/6998 [==============================] - 35s 5ms/step - loss: 0.0020\n",
      "Epoch 4/100\n",
      "6998/6998 [==============================] - 35s 5ms/step - loss: 0.0017\n",
      "Epoch 5/100\n",
      "6998/6998 [==============================] - 37s 5ms/step - loss: 0.0017\n",
      "Epoch 6/100\n",
      "6998/6998 [==============================] - 34s 5ms/step - loss: 0.0014\n",
      "Epoch 7/100\n",
      "6998/6998 [==============================] - 35s 5ms/step - loss: 0.0013\n",
      "Epoch 8/100\n",
      "6998/6998 [==============================] - 36s 5ms/step - loss: 0.0013\n",
      "Epoch 9/100\n",
      "6998/6998 [==============================] - 50s 7ms/step - loss: 0.0011\n",
      "Epoch 10/100\n",
      "6998/6998 [==============================] - 42s 6ms/step - loss: 0.0012\n",
      "Epoch 11/100\n",
      "6998/6998 [==============================] - 38s 5ms/step - loss: 0.0010\n",
      "Epoch 12/100\n",
      "6998/6998 [==============================] - 36s 5ms/step - loss: 0.0010\n",
      "Epoch 13/100\n",
      "6998/6998 [==============================] - 38s 5ms/step - loss: 0.0010\n",
      "Epoch 14/100\n",
      "6998/6998 [==============================] - 38s 5ms/step - loss: 9.0120e-04\n",
      "Epoch 15/100\n",
      "6998/6998 [==============================] - 37s 5ms/step - loss: 8.9497e-04\n",
      "Epoch 16/100\n",
      "6998/6998 [==============================] - 42s 6ms/step - loss: 8.1143e-04\n",
      "Epoch 17/100\n",
      "6998/6998 [==============================] - 39s 6ms/step - loss: 8.0016e-04\n",
      "Epoch 18/100\n",
      "6998/6998 [==============================] - 36s 5ms/step - loss: 7.5380e-04\n",
      "Epoch 19/100\n",
      "6998/6998 [==============================] - 36s 5ms/step - loss: 7.6116e-04\n",
      "Epoch 20/100\n",
      "6998/6998 [==============================] - 36s 5ms/step - loss: 7.7459e-04\n",
      "Epoch 21/100\n",
      "6998/6998 [==============================] - 40s 6ms/step - loss: 7.5020e-04\n",
      "Epoch 22/100\n",
      "6998/6998 [==============================] - 40s 6ms/step - loss: 6.8840e-04: 2s - lo\n",
      "Epoch 23/100\n",
      "6998/6998 [==============================] - 38s 5ms/step - loss: 7.0041e-04\n",
      "Epoch 24/100\n",
      "6998/6998 [==============================] - 38s 5ms/step - loss: 7.4594e-04\n",
      "Epoch 25/100\n",
      "6998/6998 [==============================] - 36s 5ms/step - loss: 6.8604e-04\n",
      "Epoch 26/100\n",
      "6998/6998 [==============================] - 35s 5ms/step - loss: 6.8499e-04\n",
      "Epoch 27/100\n",
      "6998/6998 [==============================] - 35s 5ms/step - loss: 6.6960e-04\n",
      "Epoch 28/100\n",
      "6998/6998 [==============================] - 35s 5ms/step - loss: 7.1919e-04\n",
      "Epoch 29/100\n",
      "6998/6998 [==============================] - 35s 5ms/step - loss: 7.3621e-04\n",
      "Epoch 30/100\n",
      "6998/6998 [==============================] - 35s 5ms/step - loss: 7.0106e-04\n",
      "Epoch 31/100\n",
      "6998/6998 [==============================] - 36s 5ms/step - loss: 6.9015e-04\n",
      "Epoch 32/100\n",
      "6998/6998 [==============================] - 35s 5ms/step - loss: 6.1469e-04\n",
      "Epoch 33/100\n",
      "6998/6998 [==============================] - 35s 5ms/step - loss: 6.7499e-04\n",
      "Epoch 34/100\n",
      "6998/6998 [==============================] - 38s 5ms/step - loss: 6.4347e-04\n",
      "Epoch 35/100\n",
      "6998/6998 [==============================] - 36s 5ms/step - loss: 6.5350e-04\n",
      "Epoch 36/100\n",
      "6998/6998 [==============================] - 35s 5ms/step - loss: 6.2612e-04\n",
      "Epoch 37/100\n",
      "6998/6998 [==============================] - 35s 5ms/step - loss: 5.9670e-04\n",
      "Epoch 38/100\n",
      "6998/6998 [==============================] - 35s 5ms/step - loss: 6.6393e-04\n",
      "Epoch 39/100\n",
      "6998/6998 [==============================] - 35s 5ms/step - loss: 6.3930e-04\n",
      "Epoch 40/100\n",
      "6998/6998 [==============================] - 35s 5ms/step - loss: 6.1100e-04\n",
      "Epoch 41/100\n",
      "6998/6998 [==============================] - 35s 5ms/step - loss: 6.2059e-04\n",
      "Epoch 42/100\n",
      "6998/6998 [==============================] - 1024s 146ms/step - loss: 6.0500e-04\n",
      "Epoch 43/100\n",
      "6998/6998 [==============================] - 36s 5ms/step - loss: 6.2156e-04\n",
      "Epoch 44/100\n",
      "6998/6998 [==============================] - 35s 5ms/step - loss: 6.2484e-04\n",
      "Epoch 45/100\n",
      "6998/6998 [==============================] - 36s 5ms/step - loss: 5.9583e-04\n",
      "Epoch 46/100\n",
      "6998/6998 [==============================] - 34s 5ms/step - loss: 6.1380e-04\n",
      "Epoch 47/100\n",
      "6998/6998 [==============================] - 40s 6ms/step - loss: 6.3775e-04\n",
      "Epoch 48/100\n",
      "6998/6998 [==============================] - 35s 5ms/step - loss: 6.2172e-04\n",
      "Epoch 49/100\n",
      "6998/6998 [==============================] - 35s 5ms/step - loss: 6.1939e-04\n",
      "Epoch 50/100\n",
      "6998/6998 [==============================] - 36s 5ms/step - loss: 5.8062e-04\n",
      "Epoch 51/100\n",
      "6998/6998 [==============================] - 36s 5ms/step - loss: 5.6231e-04\n",
      "Epoch 52/100\n",
      "6998/6998 [==============================] - 35s 5ms/step - loss: 5.6235e-04\n",
      "Epoch 53/100\n",
      "6998/6998 [==============================] - 37s 5ms/step - loss: 6.5293e-04\n",
      "Epoch 54/100\n",
      "6998/6998 [==============================] - 35s 5ms/step - loss: 5.9654e-04\n",
      "Epoch 55/100\n",
      "6998/6998 [==============================] - 35s 5ms/step - loss: 5.9033e-04\n",
      "Epoch 56/100\n",
      "6998/6998 [==============================] - 35s 5ms/step - loss: 5.7003e-04\n",
      "Epoch 57/100\n",
      "6998/6998 [==============================] - 35s 5ms/step - loss: 5.5658e-04\n",
      "Epoch 58/100\n",
      "6998/6998 [==============================] - 35s 5ms/step - loss: 6.3396e-04\n",
      "Epoch 59/100\n",
      "6998/6998 [==============================] - 37s 5ms/step - loss: 5.8309e-04: 3s\n",
      "Epoch 60/100\n",
      "6998/6998 [==============================] - 36s 5ms/step - loss: 5.7323e-04\n",
      "Epoch 61/100\n",
      "6998/6998 [==============================] - 36s 5ms/step - loss: 5.8108e-04\n",
      "Epoch 62/100\n",
      "6998/6998 [==============================] - 34s 5ms/step - loss: 5.6132e-04\n",
      "Epoch 63/100\n",
      "6998/6998 [==============================] - 34s 5ms/step - loss: 5.7062e-04\n",
      "Epoch 64/100\n",
      "6998/6998 [==============================] - 35s 5ms/step - loss: 5.4070e-04\n",
      "Epoch 65/100\n",
      "6998/6998 [==============================] - 36s 5ms/step - loss: 5.7000e-04\n",
      "Epoch 66/100\n",
      "6998/6998 [==============================] - 35s 5ms/step - loss: 5.8355e-04\n",
      "Epoch 67/100\n",
      "6998/6998 [==============================] - 36s 5ms/step - loss: 5.5127e-04\n",
      "Epoch 68/100\n",
      "6998/6998 [==============================] - 37s 5ms/step - loss: 5.4320e-04\n",
      "Epoch 69/100\n",
      "6998/6998 [==============================] - 36s 5ms/step - loss: 5.6868e-04\n",
      "Epoch 70/100\n",
      "6998/6998 [==============================] - 37s 5ms/step - loss: 5.2257e-04\n",
      "Epoch 71/100\n",
      "6998/6998 [==============================] - 37s 5ms/step - loss: 5.3663e-04\n",
      "Epoch 72/100\n",
      "6998/6998 [==============================] - 36s 5ms/step - loss: 5.3605e-04\n",
      "Epoch 73/100\n",
      "6998/6998 [==============================] - 55s 8ms/step - loss: 5.2261e-04\n",
      "Epoch 74/100\n",
      "6998/6998 [==============================] - 42s 6ms/step - loss: 5.4406e-04\n",
      "Epoch 75/100\n",
      "6998/6998 [==============================] - 43s 6ms/step - loss: 5.3676e-04\n",
      "Epoch 76/100\n",
      "6998/6998 [==============================] - 39s 6ms/step - loss: 5.7423e-04\n",
      "Epoch 77/100\n",
      "6998/6998 [==============================] - 39s 6ms/step - loss: 5.1710e-04\n",
      "Epoch 78/100\n",
      "6998/6998 [==============================] - 37s 5ms/step - loss: 5.1697e-04\n",
      "Epoch 79/100\n",
      "6998/6998 [==============================] - 36s 5ms/step - loss: 5.1299e-04\n",
      "Epoch 80/100\n",
      "6998/6998 [==============================] - 36s 5ms/step - loss: 5.5028e-04\n",
      "Epoch 81/100\n",
      "6998/6998 [==============================] - 37s 5ms/step - loss: 4.8603e-04\n",
      "Epoch 82/100\n",
      "6998/6998 [==============================] - 38s 5ms/step - loss: 5.3207e-04\n",
      "Epoch 83/100\n",
      "6998/6998 [==============================] - 37s 5ms/step - loss: 5.3560e-04\n",
      "Epoch 84/100\n",
      "6998/6998 [==============================] - 39s 6ms/step - loss: 5.3811e-04\n",
      "Epoch 85/100\n",
      "6998/6998 [==============================] - 38s 5ms/step - loss: 5.3832e-04\n",
      "Epoch 86/100\n",
      "6998/6998 [==============================] - 37s 5ms/step - loss: 5.0502e-04\n",
      "Epoch 87/100\n",
      "6998/6998 [==============================] - 36s 5ms/step - loss: 5.1456e-04\n",
      "Epoch 88/100\n",
      "6998/6998 [==============================] - 40s 6ms/step - loss: 5.1047e-04\n",
      "Epoch 89/100\n",
      "6998/6998 [==============================] - 37s 5ms/step - loss: 5.1958e-04\n",
      "Epoch 90/100\n",
      "6998/6998 [==============================] - 37s 5ms/step - loss: 5.3819e-04: 0s - loss: 5.394\n",
      "Epoch 91/100\n",
      "6998/6998 [==============================] - 40s 6ms/step - loss: 4.9764e-04\n",
      "Epoch 92/100\n"
     ]
    },
    {
     "name": "stdout",
     "output_type": "stream",
     "text": [
      "6998/6998 [==============================] - 35s 5ms/step - loss: 4.9485e-04\n",
      "Epoch 93/100\n",
      "6998/6998 [==============================] - 35s 5ms/step - loss: 5.2215e-04\n",
      "Epoch 94/100\n",
      "6998/6998 [==============================] - 35s 5ms/step - loss: 5.4711e-04\n",
      "Epoch 95/100\n",
      "6998/6998 [==============================] - 36s 5ms/step - loss: 4.8779e-04\n",
      "Epoch 96/100\n",
      "6998/6998 [==============================] - 36s 5ms/step - loss: 5.1308e-04\n",
      "Epoch 97/100\n",
      "6998/6998 [==============================] - 39s 6ms/step - loss: 4.9786e-04\n",
      "Epoch 98/100\n",
      "6998/6998 [==============================] - 39s 6ms/step - loss: 4.9807e-04\n",
      "Epoch 99/100\n",
      "6998/6998 [==============================] - 36s 5ms/step - loss: 4.9839e-04\n",
      "Epoch 100/100\n",
      "6998/6998 [==============================] - 36s 5ms/step - loss: 5.0675e-04: 1s - loss: 5.\n"
     ]
    },
    {
     "data": {
      "text/plain": [
       "<keras.callbacks.History at 0x2132a7430b8>"
      ]
     },
     "execution_count": 107,
     "metadata": {},
     "output_type": "execute_result"
    }
   ],
   "source": [
    "# Compiling the RNN\n",
    "regressor.compile(optimizer = 'adam', loss = 'mean_squared_error')\n",
    "\n",
    "# Fitting the RNN to the Training set\n",
    "regressor.fit(X_train, y_train, epochs = 100, batch_size = 32)"
   ]
  },
  {
   "cell_type": "code",
   "execution_count": 112,
   "metadata": {},
   "outputs": [],
   "source": [
    "\n",
    "# Part 3 - Making the predictions and visualising the results\n",
    "\n",
    "# Getting the real stock price of 2017\n",
    "dataset_test = pd.read_csv('SourceData/Stocks/ge.us.test.csv',index_col=\"Date\",parse_dates=True)\n",
    "\n"
   ]
  },
  {
   "cell_type": "code",
   "execution_count": 117,
   "metadata": {},
   "outputs": [],
   "source": [
    "real_stock_price = dataset_test.iloc[:, 0:1].values"
   ]
  },
  {
   "cell_type": "code",
   "execution_count": 131,
   "metadata": {},
   "outputs": [],
   "source": [
    "test_set=dataset_test['Open']\n",
    "test_set=pd.DataFrame(test_set)"
   ]
  },
  {
   "cell_type": "code",
   "execution_count": 132,
   "metadata": {},
   "outputs": [
    {
     "name": "stdout",
     "output_type": "stream",
     "text": [
      "<class 'pandas.core.frame.DataFrame'>\n",
      "DatetimeIndex: 448 entries, 2017-11-13 to 2019-08-26\n",
      "Data columns (total 1 columns):\n",
      "Open    448 non-null float64\n",
      "dtypes: float64(1)\n",
      "memory usage: 7.0 KB\n"
     ]
    }
   ],
   "source": [
    "\n",
    "test_set.info()"
   ]
  },
  {
   "cell_type": "code",
   "execution_count": 137,
   "metadata": {},
   "outputs": [],
   "source": [
    "# Getting the predicted stock price of 2017\n",
    "dataset_total = pd.concat((dataset['Open'], dataset_test['Open']), axis = 0)\n",
    "inputs = dataset_total[len(dataset_total) - len(dataset_test) - 60:].values\n",
    "inputs = inputs.reshape(-1,1)\n",
    "inputs = sc.transform(inputs)\n",
    "X_test = []\n",
    "for i in range(60, test_set.shape[0]):\n",
    "    X_test.append(inputs[i-60:i, 0])\n",
    "X_test = np.array(X_test)\n",
    "X_test = np.reshape(X_test, (X_test.shape[0], X_test.shape[1], 1))\n",
    "predicted_stock_price = regressor.predict(X_test)\n",
    "predicted_stock_price = sc.inverse_transform(predicted_stock_price)"
   ]
  },
  {
   "cell_type": "code",
   "execution_count": 138,
   "metadata": {},
   "outputs": [
    {
     "name": "stdout",
     "output_type": "stream",
     "text": [
      "<class 'pandas.core.frame.DataFrame'>\n",
      "RangeIndex: 388 entries, 0 to 387\n",
      "Data columns (total 1 columns):\n",
      "0    388 non-null float32\n",
      "dtypes: float32(1)\n",
      "memory usage: 1.6 KB\n"
     ]
    }
   ],
   "source": [
    "\n",
    "\n",
    "predicted_stock_price=pd.DataFrame(predicted_stock_price)\n",
    "predicted_stock_price.info()\n",
    "\n"
   ]
  },
  {
   "cell_type": "code",
   "execution_count": 139,
   "metadata": {},
   "outputs": [
    {
     "data": {
      "image/png": "[encoded data removed]",
      "text/plain": [
       "<Figure size 432x288 with 1 Axes>"
      ]
     },
     "metadata": {
      "needs_background": "light"
     },
     "output_type": "display_data"
    }
   ],
   "source": [
    "# Visualising the results\n",
    "plt.plot(real_stock_price, color = 'red', label = 'Real GE Stock Price')\n",
    "plt.plot(predicted_stock_price, color = 'blue', label = 'Predicted GE Stock Price')\n",
    "plt.title('GE Stock Price Prediction')\n",
    "plt.xlabel('Time')\n",
    "plt.ylabel('GE Stock Price')\n",
    "plt.legend()\n",
    "plt.show()"
   ]
  },
  {
   "cell_type": "code",
   "execution_count": null,
   "metadata": {},
   "outputs": [],
   "source": []
  }
 ],
 "metadata": {
  "kernelspec": {
   "display_name": "Python 3",
   "language": "python",
   "name": "python3"
  },
  "language_info": {
   "codemirror_mode": {
    "name": "ipython",
    "version": 3
   },
   "file_extension": ".py",
   "mimetype": "text/x-python",
   "name": "python",
   "nbconvert_exporter": "python",
   "pygments_lexer": "ipython3",
   "version": "3.7.3"
  }
 },
 "nbformat": 4,
 "nbformat_minor": 2
}
